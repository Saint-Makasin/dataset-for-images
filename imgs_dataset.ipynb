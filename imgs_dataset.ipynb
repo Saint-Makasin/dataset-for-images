{
 "cells": [
  {
   "cell_type": "code",
   "execution_count": 7,
   "outputs": [],
   "source": [
    "import torch\n",
    "import torchvision\n",
    "from torchvision.transforms import v2\n",
    "from torchvision.io import read_image\n",
    "import os\n",
    "from torch.utils.data import DataLoader, Subset, Dataset"
   ],
   "metadata": {
    "collapsed": false,
    "ExecuteTime": {
     "end_time": "2024-02-12T18:24:45.360305900Z",
     "start_time": "2024-02-12T18:24:45.351799100Z"
    }
   },
   "id": "a561581116cba9b7"
  },
  {
   "cell_type": "code",
   "execution_count": 8,
   "outputs": [],
   "source": [
    "#data['file_path'] = [f'{i}.jpeg' for i in range(n)]"
   ],
   "metadata": {
    "collapsed": false,
    "ExecuteTime": {
     "end_time": "2024-02-12T18:24:45.608105800Z",
     "start_time": "2024-02-12T18:24:45.602599500Z"
    }
   },
   "id": "8af0298fee99f5e8"
  },
  {
   "cell_type": "code",
   "execution_count": 9,
   "id": "initial_id",
   "metadata": {
    "collapsed": true,
    "ExecuteTime": {
     "end_time": "2024-02-12T18:24:46.095854600Z",
     "start_time": "2024-02-12T18:24:46.088345300Z"
    }
   },
   "outputs": [],
   "source": [
    "class ImageDataset(Dataset):\n",
    "    def __init__(self, img_labels, img_dir):\n",
    "        super().__init__()\n",
    "        self.img_labels = img_labels\n",
    "        self.img_dir = img_dir\n",
    "\n",
    "    def __len__(self):\n",
    "        return len(self.img_labels)\n",
    "\n",
    "    def __getitem__(self, idx):\n",
    "        img_path = os.path.join(self.img_dir, self.img_labels.iloc[idx, 2])\n",
    "        image = read_image(img_path)\n",
    "        label_age = self.img_labels.iloc[idx, 0]\n",
    "        label_gender = self.img_labels.iloc[idx, 1]\n",
    "\n",
    "        transforms = torchvision.transforms.Compose([\n",
    "            torchvision.transforms.Normalize(mean=[0.485, 0.456, 0.406], std=[0.229, 0.224, 0.225]),\n",
    "\n",
    "        ])\n",
    "        image = transforms(image)\n",
    "\n",
    "        target_transform=v2.Compose([\n",
    "            torch.tensor,\n",
    "            v2.ToDtype(torch.long)\n",
    "        ])\n",
    "        label_age = target_transform(label_age)\n",
    "        label_gender = target_transform(label_gender)\n",
    "\n",
    "        return image, label_age, label_gender"
   ]
  },
  {
   "cell_type": "code",
   "execution_count": 6,
   "outputs": [
    {
     "ename": "NameError",
     "evalue": "name 'data' is not defined",
     "output_type": "error",
     "traceback": [
      "\u001B[1;31m---------------------------------------------------------------------------\u001B[0m",
      "\u001B[1;31mNameError\u001B[0m                                 Traceback (most recent call last)",
      "Cell \u001B[1;32mIn[6], line 2\u001B[0m\n\u001B[0;32m      1\u001B[0m dataset \u001B[38;5;241m=\u001B[39m ImageDataset(\n\u001B[1;32m----> 2\u001B[0m     img_labels\u001B[38;5;241m=\u001B[39m \u001B[43mdata\u001B[49m[\u001B[38;5;124m'\u001B[39m\u001B[38;5;124mfile_path\u001B[39m\u001B[38;5;124m'\u001B[39m],\n\u001B[0;32m      3\u001B[0m     img_dir\u001B[38;5;241m=\u001B[39m\u001B[38;5;124m'\u001B[39m\u001B[38;5;124marchive/UTKFace/\u001B[39m\u001B[38;5;124m'\u001B[39m,\n\u001B[0;32m      4\u001B[0m )\n",
      "\u001B[1;31mNameError\u001B[0m: name 'data' is not defined"
     ]
    }
   ],
   "source": [
    "dataset = ImageDataset(\n",
    "    img_labels= data['file_path'],\n",
    "    img_dir='archive/UTKFace/',\n",
    ")"
   ],
   "metadata": {
    "collapsed": false,
    "ExecuteTime": {
     "end_time": "2024-02-12T18:19:57.494997Z",
     "start_time": "2024-02-12T18:19:57.482422Z"
    }
   },
   "id": "6c0cc7e344bac334"
  },
  {
   "cell_type": "code",
   "execution_count": null,
   "outputs": [],
   "source": [],
   "metadata": {
    "collapsed": false
   },
   "id": "e9efd239982b8ba9"
  }
 ],
 "metadata": {
  "kernelspec": {
   "display_name": "Python 3",
   "language": "python",
   "name": "python3"
  },
  "language_info": {
   "codemirror_mode": {
    "name": "ipython",
    "version": 2
   },
   "file_extension": ".py",
   "mimetype": "text/x-python",
   "name": "python",
   "nbconvert_exporter": "python",
   "pygments_lexer": "ipython2",
   "version": "2.7.6"
  }
 },
 "nbformat": 4,
 "nbformat_minor": 5
}
